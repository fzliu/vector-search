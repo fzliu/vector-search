{
 "cells": [
  {
   "cell_type": "markdown",
   "id": "d322d99a",
   "metadata": {},
   "source": [
    "# An Overview of Common Indexing Algorithms\n",
    "\n",
    "In this notebook, we'll go over some common indexing algorithms and discuss the tradeoffs."
   ]
  },
  {
   "cell_type": "code",
   "execution_count": 13,
   "id": "fc8208ca",
   "metadata": {},
   "outputs": [],
   "source": [
    "import sys; sys.path.insert(0, '..')\n",
    "import numpy as np\n",
    "\n",
    "data = np.random.randn(10000, 256)"
   ]
  },
  {
   "cell_type": "markdown",
   "id": "7f77fbcd",
   "metadata": {},
   "source": [
    "## Flat Indexing"
   ]
  },
  {
   "cell_type": "code",
   "execution_count": 14,
   "id": "b904731d",
   "metadata": {},
   "outputs": [],
   "source": [
    "from indexes.flat import FlatIndex\n",
    "\n",
    "flat = FlatIndex()\n",
    "flat.create(data)"
   ]
  },
  {
   "cell_type": "code",
   "execution_count": 15,
   "id": "c8133c83",
   "metadata": {},
   "outputs": [
    {
     "name": "stdout",
     "output_type": "stream",
     "text": [
      "50.1 ms ± 1.58 ms per loop (mean ± std. dev. of 7 runs, 10 loops each)\n"
     ]
    }
   ],
   "source": [
    "%timeit flat.search(np.random.randn(256))"
   ]
  },
  {
   "cell_type": "markdown",
   "id": "31ad2c6a",
   "metadata": {},
   "source": [
    "## Product Quantization (PQ)"
   ]
  },
  {
   "cell_type": "code",
   "execution_count": 16,
   "id": "4d13c5dd",
   "metadata": {},
   "outputs": [],
   "source": [
    "from indexes.pq import ProductQuantizer\n",
    "\n",
    "pq = ProductQuantizer()\n",
    "pq.create(data)"
   ]
  },
  {
   "cell_type": "code",
   "execution_count": 11,
   "id": "3b2159ed",
   "metadata": {},
   "outputs": [
    {
     "name": "stdout",
     "output_type": "stream",
     "text": [
      "51.4 ms ± 3.02 ms per loop (mean ± std. dev. of 7 runs, 10 loops each)\n"
     ]
    }
   ],
   "source": [
    "%timeit pq.search(np.random.randn(256))"
   ]
  },
  {
   "cell_type": "markdown",
   "id": "e63ed611",
   "metadata": {},
   "source": [
    "## Hierarchical Navigable Small Worlds (HNSW)"
   ]
  },
  {
   "cell_type": "code",
   "execution_count": 4,
   "id": "a26ed001",
   "metadata": {},
   "outputs": [
    {
     "data": {
      "text/plain": [
       "[(2094.7924288274976, 282)]"
      ]
     },
     "execution_count": 4,
     "metadata": {},
     "output_type": "execute_result"
    }
   ],
   "source": [
    "from indexes.hnsw import HNSW\n",
    "\n",
    "hnsw = HNSW()\n",
    "hnsw.create(data)\n",
    "%timeit hnsw.search(np.random.randn(256))"
   ]
  }
 ],
 "metadata": {
  "kernelspec": {
   "display_name": "Python 3 (ipykernel)",
   "language": "python",
   "name": "python3"
  },
  "language_info": {
   "codemirror_mode": {
    "name": "ipython",
    "version": 3
   },
   "file_extension": ".py",
   "mimetype": "text/x-python",
   "name": "python",
   "nbconvert_exporter": "python",
   "pygments_lexer": "ipython3",
   "version": "3.8.9"
  }
 },
 "nbformat": 4,
 "nbformat_minor": 5
}
